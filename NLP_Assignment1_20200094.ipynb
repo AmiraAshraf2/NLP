{
  "nbformat": 4,
  "nbformat_minor": 0,
  "metadata": {
    "colab": {
      "provenance": [],
      "authorship_tag": "ABX9TyOTiS4PjLjvNJ9H5+usVaOu",
      "include_colab_link": true
    },
    "kernelspec": {
      "name": "python3",
      "display_name": "Python 3"
    },
    "language_info": {
      "name": "python"
    }
  },
  "cells": [
    {
      "cell_type": "markdown",
      "metadata": {
        "id": "view-in-github",
        "colab_type": "text"
      },
      "source": [
        "<a href=\"https://colab.research.google.com/github/AmiraAshraf2/NLP/blob/main/NLP_Assignment1_20200094.ipynb\" target=\"_parent\"><img src=\"https://colab.research.google.com/assets/colab-badge.svg\" alt=\"Open In Colab\"/></a>"
      ]
    },
    {
      "cell_type": "code",
      "source": [
        "!pip install nltk\n",
        "import nltk\n",
        "nltk.download('punkt')"
      ],
      "metadata": {
        "colab": {
          "base_uri": "https://localhost:8080/"
        },
        "id": "xCCSijl5tAfX",
        "outputId": "76f67108-76fd-459f-dd4e-21488b850b93"
      },
      "execution_count": null,
      "outputs": [
        {
          "output_type": "stream",
          "name": "stdout",
          "text": [
            "Requirement already satisfied: nltk in /usr/local/lib/python3.10/dist-packages (3.8.1)\n",
            "Requirement already satisfied: click in /usr/local/lib/python3.10/dist-packages (from nltk) (8.1.7)\n",
            "Requirement already satisfied: joblib in /usr/local/lib/python3.10/dist-packages (from nltk) (1.3.2)\n",
            "Requirement already satisfied: regex>=2021.8.3 in /usr/local/lib/python3.10/dist-packages (from nltk) (2023.12.25)\n",
            "Requirement already satisfied: tqdm in /usr/local/lib/python3.10/dist-packages (from nltk) (4.66.2)\n"
          ]
        },
        {
          "output_type": "stream",
          "name": "stderr",
          "text": [
            "[nltk_data] Downloading package punkt to /root/nltk_data...\n",
            "[nltk_data]   Unzipping tokenizers/punkt.zip.\n"
          ]
        },
        {
          "output_type": "execute_result",
          "data": {
            "text/plain": [
              "True"
            ]
          },
          "metadata": {},
          "execution_count": 1
        }
      ]
    },
    {
      "cell_type": "code",
      "source": [
        "nltk.download('wordnet')\n",
        "nltk.download('stopwords')"
      ],
      "metadata": {
        "colab": {
          "base_uri": "https://localhost:8080/"
        },
        "id": "QIFNB7XZtaHt",
        "outputId": "678721a3-32a3-4115-f5b3-03be14713e01"
      },
      "execution_count": null,
      "outputs": [
        {
          "output_type": "stream",
          "name": "stderr",
          "text": [
            "[nltk_data] Downloading package wordnet to /root/nltk_data...\n",
            "[nltk_data] Downloading package stopwords to /root/nltk_data...\n",
            "[nltk_data]   Unzipping corpora/stopwords.zip.\n"
          ]
        },
        {
          "output_type": "execute_result",
          "data": {
            "text/plain": [
              "True"
            ]
          },
          "metadata": {},
          "execution_count": 2
        }
      ]
    },
    {
      "cell_type": "code",
      "execution_count": null,
      "metadata": {
        "id": "PgD23xYvcqQj"
      },
      "outputs": [],
      "source": [
        "import requests\n",
        "from bs4 import BeautifulSoup\n",
        "import re\n",
        "from nltk.tokenize import word_tokenize\n",
        "from nltk.corpus import stopwords\n",
        "from nltk.stem import WordNetLemmatizer"
      ]
    },
    {
      "cell_type": "code",
      "source": [
        "def get_text(url):\n",
        "  response = requests.get(url)\n",
        "  html = response.text\n",
        "\n",
        "  soup = BeautifulSoup(html, 'html.parser')\n",
        "  text = soup.get_text()\n",
        "\n",
        "  return text"
      ],
      "metadata": {
        "id": "Fr8FjeyvdDWE"
      },
      "execution_count": null,
      "outputs": []
    },
    {
      "cell_type": "code",
      "source": [
        "def preprocess_text(text):\n",
        "    text = re.sub(r'[^\\w\\s]', '', text.lower())\n",
        "\n",
        "    tokens = nltk.word_tokenize(text)\n",
        "\n",
        "\n",
        "    lemmatizer = WordNetLemmatizer()\n",
        "    lemmatized_tokens = [lemmatizer.lemmatize(token) for token in tokens]\n",
        "\n",
        "\n",
        "    stop_words = set(stopwords.words('english'))\n",
        "    filtered_tokens = [token for token in lemmatized_tokens if token not in stop_words]\n",
        "\n",
        "    return filtered_tokens"
      ],
      "metadata": {
        "id": "i4I-_LRsdDla"
      },
      "execution_count": null,
      "outputs": []
    },
    {
      "cell_type": "code",
      "source": [
        "def get_unique_words(tokens):\n",
        "    unique_words = set(tokens)\n",
        "    return unique_words"
      ],
      "metadata": {
        "id": "chCBQRcNrh2v"
      },
      "execution_count": null,
      "outputs": []
    },
    {
      "cell_type": "code",
      "source": [
        "url = \"https://en.wikipedia.org/wiki/Giza_pyramid_complex\"\n",
        "text = get_text(url)\n",
        "preprocessed_tokens = preprocess_text(text)\n",
        "unique_words = get_unique_words(preprocessed_tokens)\n",
        "print(unique_words)"
      ],
      "metadata": {
        "colab": {
          "base_uri": "https://localhost:8080/"
        },
        "id": "fhNo3hNRrh9m",
        "outputId": "57f7628c-d0f9-4109-e99e-eafe5b0f2792"
      },
      "execution_count": null,
      "outputs": [
        {
          "output_type": "stream",
          "name": "stdout",
          "text": [
            "{'1600', 'huge', 'content', 'w', '2010', 'night', 'disclaimer', 'sphinx', 'viajes', 'moved', 'collection', 'carpenter', 'laurel', 'journey', 'quarrying', 'come', 'cenotaph', 'thousand', 'g2101', 'khamerernebty', 'elsevier', 'erected', 'mitteilungen', 'body', 'agree', 'farther', 'fine', 'doi101017s0033822200034111', 'revamp', 'iunre', 'boost', 'immediate', '25tomb', 'face', 'pmid', '7060', 'paris', '1100', 'seti', 'elqady', 'wadi', '1300', 'sand', 'processed', '00278424', 'shaft', 'zahi', 'mostly', 'edition', '52east', 'london', 'setting', '2019', 'hawass', 'antiquity', 'center', 'juli', 'owner', 'school', '53cemetery', 'codewikidata', 'memphis', '18th', 'bibcode2021jarsr36j2868o', 'imbaba', 'burialshaft', 'e2202530119', 'aftermath', 'mention', 'backgroundedit', 'italian', 'vast', '0500050848', 'thorough', 'zhongyuan', 'r', 'issn', '5cemeteries', 'slave', 'criteriacultural', 'hundred', '82italian', 'inscribed', 'archaeologist', '9782724707069', 'institution', 'sekhemkare', '3d', '8400', 'viewed', 'link', 'isi', 'commander', 'structuresshown', 'exact', '2560', 'wife', 'pottery', 'awarded', 'deliver', 'ltd', 'remains', 'considered', 'toby', '400000', 'article', '2nd', 'metre', 'correspondence', 'mifao', 'fisher', 'pdfprintable', 'doi101179009346994791547553', 'eroded', 'list', 'nefertari', 'explaining', 'plateau', 'travel', 'reassessment', '193', 'geburtstag', '289290', 'institutions43', 'several', 'son', 'chen', 'iii', 'palace', 'website', 'since', '1904', 'deceased', 'toggle', '40', '295', 'mastaba', 'dream', 'sleeping', 'prophet', 'jr', 'valley', 'bunefer', 'symmetrical', 'nick', 'scoop', 'virtue', 'museum1314', 'transported', 'henutsen12', 'sneferu', 'kaniewski', 'side', 'obtained', 'pits12', 'georg', 'cemetery', 'head', 'james', 'ballerini', 'known', 'shawki', 'august', 'srpskisrpskohrvatski', 'quibell', 'representation', 'kawab', 'egypthidden', 'attributionsharealike', 'pdf', 'djedkare', 'germany', 'djedefre', 'français', '625615', 'resthouse', 'funding', 'abû', 'steindorffs', 'serdab12', 'library', 'arsenical', 'djedefhor', 'term', 'death', 'stele', 'wikipedia', 'reisner47', 'cambridge', 'dee', 'inc', 'located', 'significant', 'mena', 'work', 'yield', 'maspero', 'contribute', 'reported', 'meresankh', 'carrier', 'shortened', 'event', '89', 'dokki', 'sieglin', '31', 'previously', 'geographic', 'gained', 'people48', 'people', 'shard', 'mainly', 'especially', 'old', 'und', '12971320', 'dragged', 'referring', 'niankhre', 'ed', 'ship', 'de', 'bc', 'others', 'lehner', 'river', 'hawass4', '8130', 'waterscape', 'usdonate', 'date', 'pyramids12', 'hassan', '9781850439455', 'bread', 'diabase', 'southeast', 'believed', 'touristfriendly4950', 'gizafasharvardedu', 'sandwhich', 'nyuserre', 'required', 'cheops', 'khentkaus', 'comment', 'egyptregionmiddle', '1997', 'historically', 'told', 'kate', 'clip', 'khafre', 'former', 'unskilled', 'second', '24', 'within', 'solar', 'ankhmare', 'casing8', 'display', 'idea', 'minister', 'workshop', 'copper22', 'popular', 'meritites', 'joseph', 'needed', '36037388', 'evidence', '8530', '5th', 'shaftedit', 'editcommunity', '51west', '1905', '100122', 'zur', '75307540', '1maadi', 'heliogravure', 'run', 'egyptologist', 'review', 'pagespermanent', 'pierre', 'original', 'herbert', 'helen', 'tunnel', 'research', 'succeeded', 'osiris', 'chamberlain', 'islamic', 'outer', 'shakira', 'front', 'cemeteriesedit', 'east', 'edit', 'skeleton', 'earlier', 'morhange', 'plug', 'nummulitic', 'giza', 'service', 'registered', 'lg', '2022', 'ernesto', 'shafer', '2997611', 'according', 'scroll', 'bc2425', 'egyptarchaeological', 'southernmost', 'turin', '320324', 'creative', 'encyclopaedia', 'fill', 'ar', 'hudson', 'landmark', 'early', '30', 'successive', 'yielded', 'code', 'montague', 'thought', 'sphinxedit', 'attraction', 'prior', 'statement', 'project6', 'theorized', 'hauronharemakhet', 'town12', 'memphis1', 'lie', 'permission', 'necropolis', 'medium', '35', 'renovate', 'eljarf', 'tauris', 'mudbrick', 'gebrüder', 'orion', 'viaf', 'moss', 'history', 'artistic', 'kaemah', '92', 'whale', 'hetepheres', 'bbc', 'hildesheimer', 'lepsius', 'g1600', 'khufukhaf', 'edited', 'rawâsh', 'archive', 'outline', 'dragging', 'periodsite', 'mariette', 'family', 'identified', 'using', 'template', 'ruled', 'policy', 'major', 'art', 'haas', 'signage', 'barge', 'data', '9780500051894', 'conveyed', 'area', 'threemonth', 'booth', 'preistoria', 'diary', '13', '31purpose', 'colombian', 'entombed', 'mobile', 'ashraf', '71307140', 'kingdom', 'letter', '192152723', 'paving', 'building', 'cairo8', 'largest', 'learn', 'proximity', 'eckley', 'arnold', 'topographical', 'grove', 'qr', 'technique', 'construct', 'k', 'maspero46', '18831914', 'official', 'marriner', 'additional', '211', 'vteworld', '29', 'catherine', 'reference', 'autochrome', 'map', '4workers', 'km', '1119', 'expedition', 'feasibility', '3construction', 'fieldedit', 'page', '2pyramids', '74107420', 'indonesiaíslenskaעבריתjawakabɩyɛkurdîladinlatinalatviešulëtzebuergeschmagyarмакедонскиമലയളმარგალურიمصرىbahasa', '1860', 'cookie', 'printexport', 'gad', 'satellite', 'ib', 'teotihuacan', '10415440', 'wenke', 'causeway', 'new', 'wifi525354', 'linksedit', 'mi', 'unas', 'temples8', 'active', 'wikipediacontact', 'baker', 'contact', 'guardiansnet', 'ruler', '8464', 'véron', 'bertha', 'press', 'festschrift', 'stage', '9781860644658', 'covingtons', 'served', 'aryan', 'painting', '7760', 'december', 'exclusively', 'create', 'statue', 'editor', 'mortuary', 'pagecontentscurrent', 'radiocarbon', 'giza12', 'position', '2100', 'periodedit', 'news', 'exhausted', 'disputed', 'spiekermann', '2774', 'interested', '1217', 'dahshurincludes', 'leading', 'mystery', 'amr', 'claimed', 'later12', '2200', 'record', 'mother', 'orientation', 'tutankhamun', 'scholar', 'culturefocuscom', 'menkaures', '10see', 'tafur', '21khufus', 'discovery17', 'angle', 'robert', 'dietary', 'morteza', 'associated', 'quarried', 'monument', 'indicates', '2600', 'dipartimento', '2220', 'babaef', 'wilbour', 'employed', 'science', '2012', 'alongside', 'apex8', '87', 'project', 'northern', 'named', 'item', '2018', 'polished', 'workforce', 'michael', '2500', 'abteilung', 'landscape', '22khafres', 'empire', 'fikrle', 'recorded', 'logged', 'historian', 'saint', 'surveying', 'central', 'khufudjedef', 'helplearn', 'listed', 'thus', 'metalworker', 'bnf', 'hesitant', 'indicate', 'bakery', '199938', 'red', 'need', 'embalmed', 'linkpage', 'subsection', 'respectively', 'divided', 'ramp', 'george', 'account', '2300', 'purposeedit', '18', 'concert', '8140', 'spanish', '23menkaures', 'connected', 'bibcode2009radcb511061d', 'oldest', 'edifice', 'underneath', 'bent', 'h', '20', 'accessible', 'onto', 'gîza', 'riddle', 'amasis', '9477388', 'developed', '6th', 'educational', 'operate', 'made', 'instance', 'lonely', 'astronomically', 'ministry', 'horbaef', 'documentation', 'senedjemibinti', 'università', 'control', 'rewarded', 'brewery', 'portion', 'approximately', 'standard', 'foundation', 'nakhtubasterau', 'carefully', 'master', '295834n', 'српскохрватскиsuomisvenskaதமழтатарча', 'hotel', '1933193435', 'hat', '5152', 'wikidatause', 'prominently', 'smaller', 'water', 'hearst', 'tura8', 'dated', 'facilitated', 'volume', 'final', 'petrie', 'view', 'predates', '2635', 'subsidiary', 'skilled', 'right', 'american', 'cut', '15th', 'limited', 'private', 'dedicated', 'championship', 'western', 'large', 'cleared', 'draw', 'related', 'v', 'kromer', 'aerial', 'khafre15', 'based', 'mykerinos', '71107120', '2005', 'concessionaire', 'seneb', 'well', 'refurbishment', 'afrikaansالعربيةazərbaycancaتۆرکجهбашҡортсабеларускаябеларуская', '412', '23', '1926', 'team', 'independent', 'orientale', 'mfa', 'mer', 'popularised', '19771986', 'seven', '7070', 'might', 'available', 'manuelian', 'christophe', 'n', 'far', 'south', 'retains', 'discovery', 'reign', 'foot', 'lost', 'permitted', 'rapid', 'nakhla', 'socalled', 'period', 'thames', 'revisited', 'examined', '17000000', 'tutankhamun12', 'thing', '2580', 'end', 'fish', '19251926', 'them404142', 'rawash', 'identifiersarticles', 'explore', 'pit', 'paid', 'long', 'dr', 'published16', 'khafre23', 'vicinity', 'lumière', 'destroyed', 'schmitz', 'visited', 'imagination2', 'number', 'dynastic', 'digital', 'sudoc', 'battle', 'five', '1974', 'grade', 'negotiated', 'otherwise', '126', 'surface', '40001149', '100000', 'photograph', 'degree1920', 'lettres', 'personal', '19501951', 'pharaoh', '9', 'articletalk', 'literature', 'beneath', 'architecture', 'degypte', '1994', 'representing', 'ўзбекчаپنجابیپښتوpolskiqaraqalpaqsharomânăрусскийshqipසහලsimple', 'hader', '1798', 'whose', '19051906', 'abusir', 'month', 'green', 'include', '1990', 'france', 'galarza', 'city', 'iedit', 'doi101093oxfordhb978019993541301329', 'uncovered', 'gerstenberg', 'ii12', 'isbn', 'published', 'carolinarh', 'house', 'protect', 'queen', 'buildersedit', 'called', 'completion', '2013', 'working', 'french', '60', 'millennium', 'instituts', '9780500052112', 'appear', 'porter', 'fit', 'boatpits', '39', 'mohandessin', 'dynasty', 'block', 'regarding', 'eldest', 'adventure', 'boston', 'augmented', 'nazlet', 'pyramidsedit', 'released', 'gamal', 'table', 'bard', 'pmc', 'wölfli', 'gisedit', 'world', 'burial', 'ancient', 'would', 'open', 'archaeological', 'picture', 'street', 'representative', 'dellantichità', 'walegcom', 'bnfdata', 'log', 'time8', '8154', '1914', 'jar', 'pelizaeus', 'schiaparelli', 'et', 'niuserre', '2024', 'black', 'p', 'men', '2021', '43', 'concession', 'hildesheim', '1893', '25202494', 'york', 'j', '6000', '3113278', 'rest', '2', 'ameny', '9780199935413', 'wayback', 'seen', 'trauma', 'artefact', 'singer', 'japanese', 'africa', 'consensus', 'rock', 'deutschen', 'daughter', '3000', 'next', 'reisner', 'near', 'possible', '8978', 'unesco', 'chronological', 'first', 'level', 'egyptlocationgiza', 'arranged', 'shortland', 'range', '2011', 'database', 'routledge', 'nigel', 'stable', 'alain', 'previous', '19491953', 'amateur', 'sessionarea1620336', 'across', 'serving', 'also', 'zawyet', '19491950', 'somewhat', 'gizaedit', '8division', 'environmentallyfriendly', '81', 'context', 'тарашкевіцабългарскиbosanskicatalàcymraegdanskdeutschދވހބސeestiελληνικάespañolesperantoفارسیfiji', 'steeper', 'sitewide', 'hindifrançaisfryskgalego한국어հայերենहनदhrvatskiigbobahasa', 'site21', '86', 'earliest', 'khaemnefert', 'emerges', 'etc', 'west', '7810', 'general', 'northernmost45', 'turn', 'assign', 'sitepart', 'málek', '241249', 'menu', 'portalrecent', '102868', 'urldownload', 'doi101017s0033822200038558', 'copper', 'placed', 'gi', 'mary', 'inclination', 'jstor', 'speculation', '8156', 'cairo', '3947', 'along', '2020', 'saite', 'oxford', 'showing', 'agouza', '7550', 'division', 'usurped', 'search', 'ha', 'edge', '1500', 'laying', 'khendjer', 'necropolisedit', '26th', '7', 'via', 'encyclopedia', 'dating', 'selim', 'involving', 'scienze', 'g1000', 'layer', 'late', 'maximum', 'immediately', 'plan', '19111913', 'accomplished', 'astronomyedit', '408', 'provided', 'beef', 'toilet', '8466', 'later', 'planning', 'case', 'egyptgiza', 'privacy', '8', '8260', 'eastern', '3113278e', 'fixed', 'caire', 'developer', 'bus', 'iv', 'heritage', 'version', 'various', 'away', 'harvard', 'comprehensive', 'massachusetts', 'horizontal', 'capital', 'reanalysis', 'assigned', 'likely', 'louise', 'minkhaf', 'adjacent', 'international', 'beiträge', 'maadi', 'alsoedit', 'doi10103835042510', 'duaenhor', 'ofpyramid', 'laborer', 'grand', 'jump', 'megalith', 'pleiades', 'dieter', 'di', 'complexedit', 'geography', '10', 'together', 'egypt', 'excavated1011', 'intact', 'built', 'everything', 'bronk', 'led', 'centre', 'frenchlanguage', 'archäologischen', 'remain', 'việt吴语粵語žemaitėška中文', 'main', 'chronology', 'settlement', '21st', '1915', 'oriented', 'melayunederlandsnedersaksies日本語нохчийнnorsk', '84division', 'complex', 'simbel', 'height', 'flooded35', '72107220', 'electric', 'byron', 'zum', 'odler', 'larger', 'look', '0802139353', 'truck', '7000', 'specialist', 'largesse', 'license', '8460', 'around', 'without', 'form', 'pedro', 'bonani', 'state', 'star', 'action', '19', 'villageedit', 'artifact', 'navigation', 'overview', 'expanded', 'documentary', 'rouge', 'nile', 'b', '10611070', 'q', 'largely', 'ceased', 'fraction', 'erban', 'halfsister', 'mission', '2329', 'afterlife', '4000', 'temple', 'outside', 'hemetre', 'basalt', 'mummified', 'grandson', '00934690', 'rosalind', 'strip', 'tura', 'happened', 'stone', '62', 'unveiled', 'jones', '4th', 'du', 'mentioned', 'seems', '4', 'order', 'clarendon', 'mazghuna', 'contains', 'thebe', 'referencesedit', 'marked', 'vizier', 'cinema', 'bajeot', 'interior', '50', 'dynasty12', '19091910', '2997611n', 'meet', 'relief', 'common', 'sculpting', 'failed', 'tenant', '9788890424021', '1902', '61osiris', 'tour', '1867', 'download', '216228', 'mason', 'restaurant', '8158', 'prominent', 'reveal', '11', 'direct', 'inspector', 'reisner44', 'time', 'wa', 'philae', 'belongs', 'find', 'correlation', 'concludes', 'bottom', 'descriptionshort', 'storm', 'antetemple', 'meeting', 'earth', 'age', 'added', 'exterior', 'skill31323334', 'constructionedit', 'section', 'soon', '1931', 'alsson', 'wide', '1st', 'university', 'sander', 'burials29', 'naming', 'medieval', 'nefertiabet', 'test', 'know', 'bedrocknot', 'sneferukhaf', 'g', 'food', 'aeraweborg', 'see', 'kairo', 'file', 'ahmose', '2017', 'flentye', 'mankind', 'plateaupyramids', 'partially', 'el', 'tomb', 'conducted', 'attack', 'scientific', '1978', 'borchardt', 'virtual', 'video', 'traveller', 'facility', 'higham', 'short', '85immediate', 'north', 'readeditview', '233577883', 'ensure', 'shaftsedit', 'martin', '288289', 'secret', 'dwarf', 'herodotus', '7660', 'excavated', 'town', '47179', 'ka', 'northernmost', 'englishсловѣньскъ', 'contained', 'cemetery12', 'doi101016jjasrep2021102868', 'hide', 'village', 'storage', 'studi', 'egyptology', '28', 'width', 'insight', 'doi10230740001149', 'egypttourist', 'elshai', 'nefertkau', 'younes', 'performed', 'treasurer', 'noteswebsite', 'disagreement', 'kaemsekhem', '56', 'method', 'improved', 'relatively', 'per', '12external', 'portalarchitecture', 'top', '2007', 'nikaure', 'merer', 'doi101073pnas2202530119', 'retrieved', 'stratigraphy', 'chapel', 'marek', 'dead', 'seuil', 'wastewater', 'hospital', 'resolved', '4500', 'peter', '265288', '8080', '20th', 'kitchen', 'jade', 'astronomical', '9780674731233', 'support', 'wider', 'moving', '1200', '3400', 'recent', 'contributionstalk', 'egypt8', 'southern', 'gereicht', 'free', 'member', 'theory', 'make', 'c', 'royalty12', 'gaston', 'transformation', 'manuelian3', 'serapeum', 'verner', 'handball', 'saqqara', 'machine', 'reisners', 'corpse', 'papyrus', 'km2', 'buried', 'labour', 'nonprofit', 'wonder', 'x', 'one', 'containing', 'mistressofthepyramids', 'education', 'authorized', '54central', 'sekhemkhet', 'select', 'march', 'spirit', 'euronews', 'impression', 'neferirkare', 'hitan', 'egyptwestern', 'america', 'akhethotep', 'settlement5', '160', 'changesupload', '53', 'filespecial', 'opened', 'saitic', 'importance', 'permit', 'investigated9', 'site55', 'disturbed', 'trimmed', 'persenet', 'jiří', 'chephren', 'september', 'represent', 'army', 'german', '31758e', 'manner', 'ramesses', 'description', 'wall', 'prince', 'sapienza', '3rd', 'sheisha', 'imhotep', 'staple', 'wepemnefert', 'headless', 'tallet', 'accepted', 'leg', 'nearby', 'archived', 'der', '14', 'rulers12', 'material', 'usageedit', 'belonging', '32astronomy', 'brick', 'darchéologie', 'pageget', 'francesco', 'even', 'fire', '16000', 'culture', 'includes', 'complexthe', 'mount', 'ägyptologische', 'elfaraun', 'white', 'supporting', 'year', 'start', 'place', 'rome', '19th', 'flat', 'planet', '2023', '1000', '179216', 'portal', 'rowland', '1620336', 'public', 'modestsized', 'cup', '2003', 'communal', 'church', '16', 'jarf', 'complexcity', 'equal', '7510', 'metal', 'metalabprojects', '11references', 'existence', 'fourth', 'complexgiza', '88', '8408', 'maintained', 'development', 'gorab', 'dawn', '6shafts', 'teti', '1953', '24sphinx', 'source', 'allow', 'sq', 'bibliography', 'remains7', 'leipzig', 'floor', 'hellenistic', '1952', 'displayed', 'pride', 'subsequently', 'menkaure', '2400', 'period36', 'ascension', 'strudwick', 'archaeology', 'last', 'aera', 'lesser', 'home', 'meidum', 'location', 'avenues28', 'saleem', 'spence', 'neither', 'egyptcoordinates295834n', 'taken', 'seal', 'ghizeh', 'utc', '1436', 'hemiunu', 'complete', 'walking', 'cultivated', 'permanently', 'today', 'junker', 'quarry', 'institut', '1938', 'cafe', 'eponymous', 'richest', 'future', '83division', 'vtegizahistory', 'sanussi', '200626', '9modern', 'weight', '1942', 'l', 'cultural', 'consists', 'trademark', 'grateful', 'mark', 'ⱄⰾⱁⰲⱑⱀⱐⱄⰽⱏślůnskiکوردیсрпски', 'kochergina', 'background', 'reconstructed', 'aeragram', 'mb', 'put', 'elsamman', 'coordinate', '1947', 'worker', 's2cid', 'current', 'online', 'magnitude', 'kingship', 'excavator', 'reason', 'houdins', 'eventsrandom', '24902472', 'frwebarchive', 'british', 'rocking', '36', 'gizeh', 'bibcode2001radcb431297b', '19261927', 'sign', '1899', 'sea', 'kmošek', 'egyptopenair', 'willy', 'john', 'builder', 'united', 'khufu', 'djet3029', '294297', 'researching', 'step', 'evangelische', 'beer', 'wikidatacommons', 'closing', 'rifeh', '00338222', 'construction', 'report', 'khafres', 'bettina', 'build', 'granary', 'greek', 'visitor', 'three', 'following', 'modern', 'tatarçaไทยtürkçeукраїнськаاردوtiếng', '3113278typemonumenthistoryperiodsearly', 'shift', 'flinders', 'southwest', 'f', '2510', 'probably', 'surrounded', '7560', 'narrow', '19031905', '37', 'site', '19791', 'lounge', 'ramsey', 'cooney', 'brooklyn', 'authority', 'organization', 'al', 'burialshafts', 'desert', 'among', 'wepemnofret', 'fact', 'craftsman', 'discovered', 'unexcavated', 'sidon', 'constructed', 'ballard', 'oberschule', 'language', '10000', 'received', 'october', '100', 'rekhetre', 'photo', '201739', 'neferefre', 'nubian', 'elevated', 'used', 'national', 'flooded', 'kathryn', 'stonebuilt', 'took', '25202472', 'remained', 'pyramid8', 'external', 'small', 'director', 'mindjedef', 'excavate', '2015coordinates', 'cs1', 'brickbuilt', 'spanned', 'land', 'lasted', 'ankhhaf', 'museum', 'bokmålnorsk', '21', 'part', 'userkaf', '2008', 'usage', 'calculating', 'verlag', 'nebemakhet', 'text', 'quarter', 'emblem', 'series', 'nolan', 'use', 'academy', 'transferring', 'wilkinson', 'name', 'district', 'casing', 'nation', 'apply', 'abu', 'royal', 'completed', 'drew', 'perform', 'proper', 'predynastic', '51', 'sahure', 'trial', 'getting', 'nynorskoccitanoʻzbekcha', 'crowd', 'constellation', 'bakr', 'sidebar', 'pp', 'thoroughly', 'structure', 'century', 'italy', '2000', 'plot', '2001', 'hieroglyphic', '81background', '5', '55south', 'kathlyn', 'appears', 'planned', 'third', 'individual', 'hererelated', 'base', 'wikimedia', 'aftermathedit', 'reevaluated', 'poor', 'tool', 'britannica', 'april', 'duty', '3800', 'thutmose', 'november', 'latest', 'laura', 'zierde', 'journal', 'associate', 'ludwig', 'cradle', 'category', 'djamali', 'four', 'middle', 'iunmin', 'yulia', '230293', 'exploring', 'hekenuhedjet', '1903', 'field', 'monolith', 'issue', 'restored', 'dynasties12', 'dmy', 'dio', 'institutional', '2020use', '15', 'referred', 'however', 'elaryan', 'jaromír', 'limestone', '19331934', 'leisure', 'smooth', '201127', 'steindorff', '79', 'arrangement', 'found', 'originally', 'visualizing', 'greater', 'tourist', 'tourism', 'january', 'settlementsedit', 'still', 'afterlife18', 'matter', 'constructionit', 'may', '56tombs', '8172', 'february', 'rom', '119', 'nature', 'amenhotep', 'excess', 'care', '7new', 'conduct', 'miroslav', 'antipater', 'high', 'qemau', 'must', 'deutsche', 'wilhelm', 'vireference86002inscription1979', 'proposed', 'move', 'amount', 'installed', 'boat', 'although', 'securely', '7350', 'architect', '450', 'two', 'mastabet', 'vehicle', '3', 'bibcode2022pnas11902530s', 'kmtsesh', 'httpsenwikipediaorgwindexphptitlegiza_pyramid_complexoldid1213589497', 'housed', 'bce', 'different', 'stela', '1907', 'pyramid', 'revised', 'merib', 'resource', 'supervision', 'vtememphis', 'played', 'multiple', '1955', 'informationcite', 'djaty', 'arise', '241253', 'niankhre12', '3940', 'statistic', '179208', 'lounge51', 'e', '27', '2009', 'discrepancy', 'le', '1900', '2002', 'egyptian', 'ii', 'david', 'direction', '1', '7010', '74307440', 'accident', 'linksarticles', 'king', 'la', 'area37', '19031907', 'proceeding', 'pavement', 'necessary', 'abûṣîr', 'andanças', 'unfinished', 'wikidataarticles', 'astonishing', 'excavation', 'urban', 'fieldwork', 'cardinal', '1400', 'lifting', 'july', 'idref', 'besides', 'avec', 'articleabout', '1601', 'nefermaat', 'eastwest', 'english', 'already', 'dispute', 'kept', 'great', 'priest', 'turned', 'dahshur'}\n"
          ]
        }
      ]
    },
    {
      "cell_type": "code",
      "source": [
        "for i in unique_words:\n",
        "  if len(i) < 3:\n",
        "    print(i)"
      ],
      "metadata": {
        "colab": {
          "base_uri": "https://localhost:8080/"
        },
        "id": "TKU9Oru2n21Z",
        "outputId": "9cb402d1-1bed-4767-895c-8b63a4e6f070"
      },
      "execution_count": null,
      "outputs": [
        {
          "output_type": "stream",
          "name": "stdout",
          "text": [
            "w\n",
            "r\n",
            "3d\n",
            "40\n",
            "jr\n",
            "89\n",
            "31\n",
            "ed\n",
            "de\n",
            "bc\n",
            "24\n",
            "lg\n",
            "ar\n",
            "30\n",
            "35\n",
            "92\n",
            "13\n",
            "qr\n",
            "k\n",
            "29\n",
            "km\n",
            "ib\n",
            "mi\n",
            "87\n",
            "18\n",
            "h\n",
            "20\n",
            "v\n",
            "23\n",
            "n\n",
            "dr\n",
            "9\n",
            "60\n",
            "39\n",
            "et\n",
            "p\n",
            "43\n",
            "j\n",
            "2\n",
            "81\n",
            "86\n",
            "gi\n",
            "ha\n",
            "7\n",
            "8\n",
            "iv\n",
            "di\n",
            "10\n",
            "19\n",
            "b\n",
            "q\n",
            "62\n",
            "du\n",
            "4\n",
            "50\n",
            "11\n",
            "wa\n",
            "g\n",
            "el\n",
            "ka\n",
            "28\n",
            "56\n",
            "c\n",
            "x\n",
            "53\n",
            "14\n",
            "16\n",
            "88\n",
            "sq\n",
            "l\n",
            "mb\n",
            "36\n",
            "f\n",
            "37\n",
            "al\n",
            "21\n",
            "51\n",
            "pp\n",
            "5\n",
            "15\n",
            "79\n",
            "3\n",
            "e\n",
            "27\n",
            "le\n",
            "ii\n",
            "1\n",
            "la\n"
          ]
        }
      ]
    }
  ]
}